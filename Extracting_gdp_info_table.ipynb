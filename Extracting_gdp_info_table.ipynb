{
 "cells": [
  {
   "cell_type": "markdown",
   "metadata": {},
   "source": [
    "# Extracting top 20 countries with their GDP"
   ]
  },
  {
   "cell_type": "markdown",
   "metadata": {},
   "source": [
    "Link:- https://en.wikipedia.org/wiki/List_of_countries_by_GDP_(nominal)"
   ]
  },
  {
   "cell_type": "markdown",
   "metadata": {},
   "source": [
    "# importing libraries"
   ]
  },
  {
   "cell_type": "code",
   "execution_count": 132,
   "metadata": {
    "ExecuteTime": {
     "end_time": "2022-03-14T21:17:07.506584Z",
     "start_time": "2022-03-14T21:17:07.497589Z"
    }
   },
   "outputs": [],
   "source": [
    "import requests\n",
    "from bs4 import BeautifulSoup\n",
    "import pandas as pd"
   ]
  },
  {
   "cell_type": "code",
   "execution_count": 133,
   "metadata": {
    "ExecuteTime": {
     "end_time": "2022-03-14T21:17:07.632027Z",
     "start_time": "2022-03-14T21:17:07.509584Z"
    }
   },
   "outputs": [],
   "source": [
    "url = \"https://en.wikipedia.org/wiki/List_of_countries_by_GDP_(nominal)\"\n",
    "my_headers = {'User-Agent':\n",
    "            'Mozilla/5.0 (Windows NT 10.0; Win64; x64) AppleWebKit/537.36 (KHTML, like Gecko) Chrome/99.0.4844.51 Safari/537.36',\n",
    "           'Accept-Language':'en-US,en;q=0.9'}"
   ]
  },
  {
   "cell_type": "markdown",
   "metadata": {},
   "source": [
    "# requesting "
   ]
  },
  {
   "cell_type": "code",
   "execution_count": 134,
   "metadata": {
    "ExecuteTime": {
     "end_time": "2022-03-14T21:17:09.646860Z",
     "start_time": "2022-03-14T21:17:07.635026Z"
    }
   },
   "outputs": [],
   "source": [
    "gdp = requests.get(url,my_headers)"
   ]
  },
  {
   "cell_type": "code",
   "execution_count": 135,
   "metadata": {
    "ExecuteTime": {
     "end_time": "2022-03-14T21:17:09.662849Z",
     "start_time": "2022-03-14T21:17:09.650858Z"
    }
   },
   "outputs": [
    {
     "data": {
      "text/plain": [
       "True"
      ]
     },
     "execution_count": 135,
     "metadata": {},
     "output_type": "execute_result"
    }
   ],
   "source": [
    "gdp.ok"
   ]
  },
  {
   "cell_type": "markdown",
   "metadata": {},
   "source": [
    "# making soup"
   ]
  },
  {
   "cell_type": "code",
   "execution_count": 136,
   "metadata": {
    "ExecuteTime": {
     "end_time": "2022-03-14T21:17:10.011920Z",
     "start_time": "2022-03-14T21:17:09.666847Z"
    }
   },
   "outputs": [],
   "source": [
    "gdp_soup = BeautifulSoup(gdp.text,'lxml')"
   ]
  },
  {
   "cell_type": "markdown",
   "metadata": {},
   "source": [
    "# getting main container of content"
   ]
  },
  {
   "cell_type": "code",
   "execution_count": 137,
   "metadata": {
    "ExecuteTime": {
     "end_time": "2022-03-14T21:17:10.027931Z",
     "start_time": "2022-03-14T21:17:10.014917Z"
    }
   },
   "outputs": [],
   "source": [
    "container = gdp_soup.find('div',{'id':'mw-content-text'})"
   ]
  },
  {
   "cell_type": "code",
   "execution_count": 138,
   "metadata": {
    "ExecuteTime": {
     "end_time": "2022-03-14T21:17:10.246253Z",
     "start_time": "2022-03-14T21:17:10.030928Z"
    }
   },
   "outputs": [],
   "source": [
    "table = container.select('.wikitable')[0]"
   ]
  },
  {
   "cell_type": "markdown",
   "metadata": {},
   "source": [
    "# getting all tr tags"
   ]
  },
  {
   "cell_type": "code",
   "execution_count": 139,
   "metadata": {
    "ExecuteTime": {
     "end_time": "2022-03-14T21:17:10.480357Z",
     "start_time": "2022-03-14T21:17:10.250251Z"
    }
   },
   "outputs": [],
   "source": [
    "trs = table.find_all('tr')"
   ]
  },
  {
   "cell_type": "markdown",
   "metadata": {},
   "source": [
    "# getting all td tags acc to row"
   ]
  },
  {
   "cell_type": "code",
   "execution_count": 140,
   "metadata": {
    "ExecuteTime": {
     "end_time": "2022-03-14T21:17:10.825436Z",
     "start_time": "2022-03-14T21:17:10.484354Z"
    }
   },
   "outputs": [],
   "source": [
    "tr_tds = {}"
   ]
  },
  {
   "cell_type": "code",
   "execution_count": 141,
   "metadata": {
    "ExecuteTime": {
     "end_time": "2022-03-14T21:17:10.985382Z",
     "start_time": "2022-03-14T21:17:10.835426Z"
    }
   },
   "outputs": [],
   "source": [
    "for t, tr in enumerate(trs):\n",
    "    tds = tr.findAll('td')\n",
    "    tds_text = []\n",
    "    for i, td in enumerate(tds):\n",
    "#         print(f\"{i} : {td.text}\")\n",
    "        tds_text.append(td.text)\n",
    "#     print()\n",
    "    tr_tds[t] = tds_text"
   ]
  },
  {
   "cell_type": "markdown",
   "metadata": {
    "ExecuteTime": {
     "end_time": "2022-03-14T20:36:59.097070Z",
     "start_time": "2022-03-14T20:36:59.089074Z"
    }
   },
   "source": [
    "# getting top 20 country names and GDP"
   ]
  },
  {
   "cell_type": "code",
   "execution_count": 142,
   "metadata": {
    "ExecuteTime": {
     "end_time": "2022-03-14T21:17:11.236526Z",
     "start_time": "2022-03-14T21:17:10.988378Z"
    }
   },
   "outputs": [],
   "source": [
    "countries = []\n",
    "GDP = []\n",
    "region = []"
   ]
  },
  {
   "cell_type": "code",
   "execution_count": 143,
   "metadata": {
    "ExecuteTime": {
     "end_time": "2022-03-14T21:17:11.376820Z",
     "start_time": "2022-03-14T21:17:11.240525Z"
    }
   },
   "outputs": [],
   "source": [
    "for i in range(2,22):\n",
    "    countries.append(tr_tds[i][0].strip())\n",
    "    region.append(tr_tds[i][1].strip())\n",
    "    GDP.append(tr_tds[i][2].strip())"
   ]
  },
  {
   "cell_type": "code",
   "execution_count": 144,
   "metadata": {
    "ExecuteTime": {
     "end_time": "2022-03-14T21:17:11.471948Z",
     "start_time": "2022-03-14T21:17:11.378988Z"
    }
   },
   "outputs": [
    {
     "name": "stdout",
     "output_type": "stream",
     "text": [
      "20\n",
      "20\n",
      "20\n"
     ]
    }
   ],
   "source": [
    "print(len(countries))\n",
    "print(len(region))\n",
    "print(len(GDP))"
   ]
  },
  {
   "cell_type": "markdown",
   "metadata": {},
   "source": [
    "# Formatting GDP value"
   ]
  },
  {
   "cell_type": "code",
   "execution_count": 145,
   "metadata": {
    "ExecuteTime": {
     "end_time": "2022-03-14T21:17:11.582077Z",
     "start_time": "2022-03-14T21:17:11.474947Z"
    }
   },
   "outputs": [],
   "source": [
    "numeric_GDP = []"
   ]
  },
  {
   "cell_type": "code",
   "execution_count": 146,
   "metadata": {
    "ExecuteTime": {
     "end_time": "2022-03-14T21:17:11.773032Z",
     "start_time": "2022-03-14T21:17:11.585013Z"
    }
   },
   "outputs": [
    {
     "name": "stdout",
     "output_type": "stream",
     "text": [
      "22939580 <class 'str'>\n",
      "16862979 <class 'str'>\n",
      "5103110 <class 'str'>\n",
      "4230172 <class 'str'>\n",
      "3108416 <class 'str'>\n",
      "2946061 <class 'str'>\n",
      "2940428 <class 'str'>\n",
      "2120232 <class 'str'>\n",
      "2015983 <class 'str'>\n",
      "1823852 <class 'str'>\n",
      "1647568 <class 'str'>\n",
      "1645837 <class 'str'>\n",
      "1610556 <class 'str'>\n",
      "1439958 <class 'str'>\n",
      "1285518 <class 'str'>\n",
      "1150245 <class 'str'>\n",
      "1081383 <class 'str'>\n",
      "1007562 <class 'str'>\n",
      "842588 <class 'str'>\n",
      "810830 <class 'str'>\n"
     ]
    }
   ],
   "source": [
    "for g in GDP:\n",
    "    g = \"\".join(g.split(','))\n",
    "    \n",
    "    numeric_GDP.append(int(g))\n",
    "#     print(g,type(g))"
   ]
  },
  {
   "cell_type": "code",
   "execution_count": 147,
   "metadata": {
    "ExecuteTime": {
     "end_time": "2022-03-14T21:17:11.959687Z",
     "start_time": "2022-03-14T21:17:11.779033Z"
    }
   },
   "outputs": [
    {
     "data": {
      "text/plain": [
       "20"
      ]
     },
     "execution_count": 147,
     "metadata": {},
     "output_type": "execute_result"
    }
   ],
   "source": [
    "len(numeric_GDP)"
   ]
  },
  {
   "cell_type": "markdown",
   "metadata": {},
   "source": [
    "# Creating Dataframe of obtained data"
   ]
  },
  {
   "cell_type": "code",
   "execution_count": 148,
   "metadata": {
    "ExecuteTime": {
     "end_time": "2022-03-14T21:17:12.132065Z",
     "start_time": "2022-03-14T21:17:11.964685Z"
    }
   },
   "outputs": [],
   "source": [
    "top_20 = {'countries':countries,\n",
    "         'region':region,\n",
    "         'GDP':numeric_GDP}"
   ]
  },
  {
   "cell_type": "code",
   "execution_count": 149,
   "metadata": {
    "ExecuteTime": {
     "end_time": "2022-03-14T21:17:12.271504Z",
     "start_time": "2022-03-14T21:17:12.134206Z"
    }
   },
   "outputs": [],
   "source": [
    "top_20_df = pd.DataFrame(top_20,index = range(1,21))"
   ]
  },
  {
   "cell_type": "code",
   "execution_count": 150,
   "metadata": {
    "ExecuteTime": {
     "end_time": "2022-03-14T21:17:12.478690Z",
     "start_time": "2022-03-14T21:17:12.275497Z"
    }
   },
   "outputs": [
    {
     "data": {
      "text/html": [
       "<div>\n",
       "<style scoped>\n",
       "    .dataframe tbody tr th:only-of-type {\n",
       "        vertical-align: middle;\n",
       "    }\n",
       "\n",
       "    .dataframe tbody tr th {\n",
       "        vertical-align: top;\n",
       "    }\n",
       "\n",
       "    .dataframe thead th {\n",
       "        text-align: right;\n",
       "    }\n",
       "</style>\n",
       "<table border=\"1\" class=\"dataframe\">\n",
       "  <thead>\n",
       "    <tr style=\"text-align: right;\">\n",
       "      <th></th>\n",
       "      <th>countries</th>\n",
       "      <th>region</th>\n",
       "      <th>GDP</th>\n",
       "    </tr>\n",
       "  </thead>\n",
       "  <tbody>\n",
       "    <tr>\n",
       "      <th>1</th>\n",
       "      <td>United States</td>\n",
       "      <td>Americas</td>\n",
       "      <td>22939580</td>\n",
       "    </tr>\n",
       "    <tr>\n",
       "      <th>2</th>\n",
       "      <td>China</td>\n",
       "      <td>Asia</td>\n",
       "      <td>16862979</td>\n",
       "    </tr>\n",
       "    <tr>\n",
       "      <th>3</th>\n",
       "      <td>Japan</td>\n",
       "      <td>Asia</td>\n",
       "      <td>5103110</td>\n",
       "    </tr>\n",
       "    <tr>\n",
       "      <th>4</th>\n",
       "      <td>Germany</td>\n",
       "      <td>Europe</td>\n",
       "      <td>4230172</td>\n",
       "    </tr>\n",
       "    <tr>\n",
       "      <th>5</th>\n",
       "      <td>United Kingdom</td>\n",
       "      <td>Europe</td>\n",
       "      <td>3108416</td>\n",
       "    </tr>\n",
       "    <tr>\n",
       "      <th>6</th>\n",
       "      <td>India</td>\n",
       "      <td>Asia</td>\n",
       "      <td>2946061</td>\n",
       "    </tr>\n",
       "    <tr>\n",
       "      <th>7</th>\n",
       "      <td>France</td>\n",
       "      <td>Europe</td>\n",
       "      <td>2940428</td>\n",
       "    </tr>\n",
       "    <tr>\n",
       "      <th>8</th>\n",
       "      <td>Italy</td>\n",
       "      <td>Europe</td>\n",
       "      <td>2120232</td>\n",
       "    </tr>\n",
       "    <tr>\n",
       "      <th>9</th>\n",
       "      <td>Canada</td>\n",
       "      <td>Americas</td>\n",
       "      <td>2015983</td>\n",
       "    </tr>\n",
       "    <tr>\n",
       "      <th>10</th>\n",
       "      <td>South Korea</td>\n",
       "      <td>Asia</td>\n",
       "      <td>1823852</td>\n",
       "    </tr>\n",
       "    <tr>\n",
       "      <th>11</th>\n",
       "      <td>Russia</td>\n",
       "      <td>Europe</td>\n",
       "      <td>1647568</td>\n",
       "    </tr>\n",
       "    <tr>\n",
       "      <th>12</th>\n",
       "      <td>Brazil</td>\n",
       "      <td>Americas</td>\n",
       "      <td>1645837</td>\n",
       "    </tr>\n",
       "    <tr>\n",
       "      <th>13</th>\n",
       "      <td>Australia</td>\n",
       "      <td>Oceania</td>\n",
       "      <td>1610556</td>\n",
       "    </tr>\n",
       "    <tr>\n",
       "      <th>14</th>\n",
       "      <td>Spain</td>\n",
       "      <td>Europe</td>\n",
       "      <td>1439958</td>\n",
       "    </tr>\n",
       "    <tr>\n",
       "      <th>15</th>\n",
       "      <td>Mexico</td>\n",
       "      <td>Americas</td>\n",
       "      <td>1285518</td>\n",
       "    </tr>\n",
       "    <tr>\n",
       "      <th>16</th>\n",
       "      <td>Indonesia</td>\n",
       "      <td>Asia</td>\n",
       "      <td>1150245</td>\n",
       "    </tr>\n",
       "    <tr>\n",
       "      <th>17</th>\n",
       "      <td>Iran</td>\n",
       "      <td>Asia</td>\n",
       "      <td>1081383</td>\n",
       "    </tr>\n",
       "    <tr>\n",
       "      <th>18</th>\n",
       "      <td>Netherlands</td>\n",
       "      <td>Europe</td>\n",
       "      <td>1007562</td>\n",
       "    </tr>\n",
       "    <tr>\n",
       "      <th>19</th>\n",
       "      <td>Saudi Arabia</td>\n",
       "      <td>Asia</td>\n",
       "      <td>842588</td>\n",
       "    </tr>\n",
       "    <tr>\n",
       "      <th>20</th>\n",
       "      <td>Switzerland</td>\n",
       "      <td>Europe</td>\n",
       "      <td>810830</td>\n",
       "    </tr>\n",
       "  </tbody>\n",
       "</table>\n",
       "</div>"
      ],
      "text/plain": [
       "         countries    region       GDP\n",
       "1    United States  Americas  22939580\n",
       "2            China      Asia  16862979\n",
       "3            Japan      Asia   5103110\n",
       "4          Germany    Europe   4230172\n",
       "5   United Kingdom    Europe   3108416\n",
       "6            India      Asia   2946061\n",
       "7           France    Europe   2940428\n",
       "8            Italy    Europe   2120232\n",
       "9           Canada  Americas   2015983\n",
       "10     South Korea      Asia   1823852\n",
       "11          Russia    Europe   1647568\n",
       "12          Brazil  Americas   1645837\n",
       "13       Australia   Oceania   1610556\n",
       "14           Spain    Europe   1439958\n",
       "15          Mexico  Americas   1285518\n",
       "16       Indonesia      Asia   1150245\n",
       "17            Iran      Asia   1081383\n",
       "18     Netherlands    Europe   1007562\n",
       "19    Saudi Arabia      Asia    842588\n",
       "20     Switzerland    Europe    810830"
      ]
     },
     "execution_count": 150,
     "metadata": {},
     "output_type": "execute_result"
    }
   ],
   "source": [
    "top_20_df"
   ]
  },
  {
   "cell_type": "markdown",
   "metadata": {},
   "source": [
    "# Plotting Bar chart"
   ]
  },
  {
   "cell_type": "code",
   "execution_count": 151,
   "metadata": {
    "ExecuteTime": {
     "end_time": "2022-03-14T21:17:13.201689Z",
     "start_time": "2022-03-14T21:17:12.481690Z"
    }
   },
   "outputs": [
    {
     "data": {
      "text/plain": [
       "<matplotlib.axes._subplots.AxesSubplot at 0x17145a0ceb8>"
      ]
     },
     "execution_count": 151,
     "metadata": {},
     "output_type": "execute_result"
    },
    {
     "data": {
      "image/png": "[encoded data removed]",
      "text/plain": [
       "<Figure size 432x288 with 1 Axes>"
      ]
     },
     "metadata": {
      "needs_background": "light"
     },
     "output_type": "display_data"
    }
   ],
   "source": [
    "top_20_df.plot.bar(x='countries',y='GDP',title=\"Top 20 Country GDP\")"
   ]
  },
  {
   "cell_type": "markdown",
   "metadata": {},
   "source": [
    "# Plotting bar chart using pyplot"
   ]
  },
  {
   "cell_type": "code",
   "execution_count": 152,
   "metadata": {
    "ExecuteTime": {
     "end_time": "2022-03-14T21:17:13.584445Z",
     "start_time": "2022-03-14T21:17:13.206685Z"
    }
   },
   "outputs": [
    {
     "data": {
      "image/png": "[encoded data removed]",
      "text/plain": [
       "<Figure size 720x720 with 1 Axes>"
      ]
     },
     "metadata": {
      "needs_background": "light"
     },
     "output_type": "display_data"
    }
   ],
   "source": [
    "import matplotlib.pyplot as plt\n",
    "\n",
    "plt.figure(figsize=(10,10))\n",
    "plt.bar(top_20_df.countries,top_20_df.GDP)\n",
    "plt.xticks(top_20_df.countries,rotation='vertical')\n",
    "# plt.yticks(top_20_df.GDP,top_20_df.GDP)\n",
    "# plt.ylabel('Countries')\n",
    "# plt.xlabel\n",
    "plt.title(\"Top Countries of GDP\")\n",
    "plt.show()"
   ]
  },
  {
   "cell_type": "markdown",
   "metadata": {},
   "source": [
    "# Plotting pie chart"
   ]
  },
  {
   "cell_type": "code",
   "execution_count": 160,
   "metadata": {
    "ExecuteTime": {
     "end_time": "2022-03-14T21:20:48.833944Z",
     "start_time": "2022-03-14T21:20:48.629073Z"
    }
   },
   "outputs": [
    {
     "data": {
      "image/png": "[encoded data removed]",
      "text/plain": [
       "<Figure size 720x720 with 1 Axes>"
      ]
     },
     "metadata": {},
     "output_type": "display_data"
    }
   ],
   "source": [
    "plt.figure(figsize=(10,10))\n",
    "plt.pie(top_20_df.GDP,labels=top_20_df.countries)\n",
    "plt.title(\"Countries according to GDP\")\n",
    "plt.show()"
   ]
  },
  {
   "cell_type": "markdown",
   "metadata": {},
   "source": [
    "# plotting line chart"
   ]
  },
  {
   "cell_type": "code",
   "execution_count": 159,
   "metadata": {
    "ExecuteTime": {
     "end_time": "2022-03-14T21:20:32.331062Z",
     "start_time": "2022-03-14T21:20:32.028250Z"
    }
   },
   "outputs": [
    {
     "data": {
      "image/png": "[encoded data removed]",
      "text/plain": [
       "<Figure size 720x720 with 1 Axes>"
      ]
     },
     "metadata": {
      "needs_background": "light"
     },
     "output_type": "display_data"
    }
   ],
   "source": [
    "plt.figure(figsize=(10,10))\n",
    "\n",
    "plt.plot(countries,numeric_GDP)\n",
    "plt.xticks(countries,rotation=\"vertical\")\n",
    "plt.title(\"Countries with their GDP\")\n",
    "plt.xlabel('countries')\n",
    "plt.ylabel('GDP')\n",
    "plt.show()"
   ]
  }
 ],
 "metadata": {
  "kernelspec": {
   "display_name": "Python 3",
   "language": "python",
   "name": "python3"
  },
  "language_info": {
   "codemirror_mode": {
    "name": "ipython",
    "version": 3
   },
   "file_extension": ".py",
   "mimetype": "text/x-python",
   "name": "python",
   "nbconvert_exporter": "python",
   "pygments_lexer": "ipython3",
   "version": "3.7.3"
  },
  "varInspector": {
   "cols": {
    "lenName": 16,
    "lenType": 16,
    "lenVar": 40
   },
   "kernels_config": {
    "python": {
     "delete_cmd_postfix": "",
     "delete_cmd_prefix": "del ",
     "library": "var_list.py",
     "varRefreshCmd": "print(var_dic_list())"
    },
    "r": {
     "delete_cmd_postfix": ") ",
     "delete_cmd_prefix": "rm(",
     "library": "var_list.r",
     "varRefreshCmd": "cat(var_dic_list()) "
    }
   },
   "types_to_exclude": [
    "module",
    "function",
    "builtin_function_or_method",
    "instance",
    "_Feature"
   ],
   "window_display": false
  }
 },
 "nbformat": 4,
 "nbformat_minor": 2
}
